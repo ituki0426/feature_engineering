{
 "cells": [
  {
   "cell_type": "markdown",
   "id": "5d46fda0",
   "metadata": {},
   "source": [
    "### 1.Introduction"
   ]
  },
  {
   "cell_type": "markdown",
   "id": "8097f3c1",
   "metadata": {},
   "source": [
    "House Prices - Advanced Regression Techniques コンペティションの特徴量エンジニアリング・プロジェクトへようこそ！\n",
    "このコンペティションでは、Feature Engineering（特徴量エンジニアリング）コースの演習で使用したデータとほぼ同じデータを使います。\n",
    "これまで行ってきた作業をまとめて、あなただけのアイデアを追加して発展させていけるような、ひとつの完成されたプロジェクトに仕上げていきましょう。"
   ]
  },
  {
   "cell_type": "markdown",
   "id": "ded21274",
   "metadata": {},
   "source": [
    "### 2.Preliminaries"
   ]
  },
  {
   "cell_type": "markdown",
   "id": "a1ed129f",
   "metadata": {},
   "source": [
    "#### Imports and Configuration"
   ]
  },
  {
   "cell_type": "code",
   "execution_count": 64,
   "id": "df2fea95",
   "metadata": {},
   "outputs": [],
   "source": [
    "import os\n",
    "import warnings\n",
    "from pathlib import Path\n",
    "\n",
    "from scipy import stats\n",
    "import matplotlib.pyplot as plt\n",
    "import numpy as np\n",
    "import pandas as pd\n",
    "import seaborn as sns\n",
    "from IPython.display import display\n",
    "from pandas.api.types import CategoricalDtype\n",
    "\n",
    "from category_encoders import MEstimateEncoder\n",
    "from sklearn.cluster import KMeans\n",
    "from sklearn.decomposition import PCA\n",
    "from sklearn.feature_selection import mutual_info_regression\n",
    "from sklearn.model_selection import KFold, cross_val_score\n",
    "from xgboost import XGBRegressor\n",
    "\n"
   ]
  },
  {
   "cell_type": "markdown",
   "id": "304ab7b0",
   "metadata": {},
   "source": [
    "#### Data Preprocessing\n"
   ]
  },
  {
   "cell_type": "code",
   "execution_count": 65,
   "id": "e2f4769e",
   "metadata": {},
   "outputs": [],
   "source": [
    "def ploting_cnt_amt(DataFile, Column, lim=2000):\n",
    "    \n",
    "    plt.figure(figsize=(16,14))    \n",
    "    plt.suptitle(f'{Column} Distributions ', fontsize=24)\n",
    "    \n",
    "    plt.subplot(211)\n",
    "    plot_1 = sns.countplot(x=Column,data=DataFile,palette=\"husl\")\n",
    "    plot_1_2 = plot_1.twinx()\n",
    "    plot_1_2 = sns.pointplot(x=Column, y='SalePrice', data=DataFile,color='black', legend=False)\n",
    "    sizes= []\n",
    "    total = float(len(DataFile))\n",
    "    for p in plot_1.patches:\n",
    "        height = p.get_height()\n",
    "        sizes.append(height)\n",
    "        plot_1.text(p.get_x()+p.get_width()/2.,\n",
    "                height + 3,\n",
    "                '{:1.2f}%'.format(height/total*100),\n",
    "                ha=\"center\",fontsize=12) \n",
    "    plt.show()\n",
    "    "
   ]
  },
  {
   "cell_type": "code",
   "execution_count": 66,
   "id": "bffd6ec5",
   "metadata": {},
   "outputs": [],
   "source": [
    "def resumetable(df):\n",
    "    print(f\"Dataset Shape: {df.shape}\")\n",
    "    summary = pd.DataFrame(df.dtypes,columns=['dtypes'])\n",
    "    summary = summary.reset_index()\n",
    "    summary['Name'] = summary['index']\n",
    "    summary = summary[['Name','dtypes']]\n",
    "    summary['Missing'] = df.isnull().sum().values    \n",
    "    summary['Uniques'] = df.nunique().values\n",
    "    summary['First Value'] = df.loc[0].values\n",
    "    summary['Second Value'] = df.loc[1].values\n",
    "    summary['Third Value'] = df.loc[2].values\n",
    "\n",
    "    for name in summary['Name'].value_counts().index:\n",
    "        summary.loc[summary['Name'] == name, 'Entropy'] = round(stats.entropy(df[name].value_counts(normalize=True), base=2),2) \n",
    "\n",
    "    return summary\n",
    "\n",
    "def CalcOutliers(df_num): \n",
    "    \"\"\"\n",
    "    外れ値は、平均±3x標準偏差 の範囲外にある値として定義されています(Zスコア的な方法)\n",
    "    \"\"\"\n",
    "    # calculating mean and std of the array\n",
    "    data_mean, data_std = np.mean(df_num), np.std(df_num)\n",
    "\n",
    "    # seting the cut line to both higher and lower values\n",
    "    # You can change this value\n",
    "    cut = data_std * 3\n",
    "\n",
    "    #Calculating the higher and lower cut values\n",
    "    lower, upper = data_mean - cut, data_mean + cut\n",
    "\n",
    "    # creating an array of lower, higher and total outlier values \n",
    "    outliers_lower = [x for x in df_num if x < lower]\n",
    "    outliers_higher = [x for x in df_num if x > upper]\n",
    "    outliers_total = [x for x in df_num if x < lower or x > upper]\n",
    "\n",
    "    # array without outlier values\n",
    "    outliers_removed = [x for x in df_num if x > lower and x < upper]\n",
    "    \n",
    "    print('Identified lowest outliers: %d' % len(outliers_lower)) # printing total number of values in lower cut of outliers\n",
    "    print('Identified upper outliers: %d' % len(outliers_higher)) # printing total number of values in higher cut of outliers\n",
    "    print('Total outlier observations: %d' % len(outliers_total)) # printing total number of values outliers of both sides\n",
    "    print('Non-outlier observations: %d' % len(outliers_removed)) # printing total number of non outlier values\n",
    "    print(\"Total percentual of Outliers: \", round((len(outliers_total) / len(outliers_removed) )*100, 4)) # Percentual of outliers in points\n",
    "    \n",
    "    return"
   ]
  },
  {
   "cell_type": "markdown",
   "id": "3ac7ce13",
   "metadata": {},
   "source": [
    "特徴量エンジニアリングを行う前に、まずデータを分析に適した形式に前処理する必要があります。\n",
    "コースで使用したデータはやや簡易的なものでしたが、Amesコンペティションのデータセットはもう少し複雑です。\n",
    "\n",
    "このコンペティション用データセットでは、次の作業が必要です：\n",
    "\n",
    "- CSVファイルからのデータ読み込み\n",
    "\n",
    "- エラーや不整合のあるデータの修正（クレンジング）\n",
    "\n",
    "- 統計的なデータ型のエンコード（数値型・カテゴリ型の識別と変換）\n",
    "\n",
    "- 欠損値の補完（インピューテーション）\n",
    "\n"
   ]
  },
  {
   "cell_type": "markdown",
   "id": "273c763e",
   "metadata": {},
   "source": [
    "\n",
    "これらすべてのステップを関数にまとめることで、必要なときにいつでも新しいデータフレームを簡単に取得できるようにします。CSVファイルを読み込んだ後、次の3つの前処理ステップ（クリーン処理、エンコード、補完）を行い、その後データを分割します。1つはモデルの学習用の df_train、もう1つはコンペティションに提出してスコアを確認するための予測用 df_test です。\n"
   ]
  },
  {
   "cell_type": "markdown",
   "id": "49acfaa1",
   "metadata": {},
   "source": [
    "##### Clean Data"
   ]
  },
  {
   "cell_type": "code",
   "execution_count": 67,
   "id": "5f030c69",
   "metadata": {},
   "outputs": [],
   "source": [
    "df = pd.read_csv('data/train.csv')"
   ]
  },
  {
   "cell_type": "code",
   "execution_count": 68,
   "id": "50531905",
   "metadata": {},
   "outputs": [
    {
     "name": "stdout",
     "output_type": "stream",
     "text": [
      "Dataset Shape: (1460, 81)\n"
     ]
    },
    {
     "data": {
      "text/html": [
       "<div>\n",
       "<style scoped>\n",
       "    .dataframe tbody tr th:only-of-type {\n",
       "        vertical-align: middle;\n",
       "    }\n",
       "\n",
       "    .dataframe tbody tr th {\n",
       "        vertical-align: top;\n",
       "    }\n",
       "\n",
       "    .dataframe thead th {\n",
       "        text-align: right;\n",
       "    }\n",
       "</style>\n",
       "<table border=\"1\" class=\"dataframe\">\n",
       "  <thead>\n",
       "    <tr style=\"text-align: right;\">\n",
       "      <th></th>\n",
       "      <th>Name</th>\n",
       "      <th>dtypes</th>\n",
       "      <th>Missing</th>\n",
       "      <th>Uniques</th>\n",
       "      <th>First Value</th>\n",
       "      <th>Second Value</th>\n",
       "      <th>Third Value</th>\n",
       "      <th>Entropy</th>\n",
       "    </tr>\n",
       "  </thead>\n",
       "  <tbody>\n",
       "    <tr>\n",
       "      <th>0</th>\n",
       "      <td>Id</td>\n",
       "      <td>int64</td>\n",
       "      <td>0</td>\n",
       "      <td>1460</td>\n",
       "      <td>1</td>\n",
       "      <td>2</td>\n",
       "      <td>3</td>\n",
       "      <td>10.51</td>\n",
       "    </tr>\n",
       "    <tr>\n",
       "      <th>1</th>\n",
       "      <td>MSSubClass</td>\n",
       "      <td>int64</td>\n",
       "      <td>0</td>\n",
       "      <td>15</td>\n",
       "      <td>60</td>\n",
       "      <td>20</td>\n",
       "      <td>60</td>\n",
       "      <td>2.92</td>\n",
       "    </tr>\n",
       "    <tr>\n",
       "      <th>2</th>\n",
       "      <td>MSZoning</td>\n",
       "      <td>object</td>\n",
       "      <td>0</td>\n",
       "      <td>5</td>\n",
       "      <td>RL</td>\n",
       "      <td>RL</td>\n",
       "      <td>RL</td>\n",
       "      <td>1.00</td>\n",
       "    </tr>\n",
       "    <tr>\n",
       "      <th>3</th>\n",
       "      <td>LotFrontage</td>\n",
       "      <td>float64</td>\n",
       "      <td>259</td>\n",
       "      <td>110</td>\n",
       "      <td>65.0</td>\n",
       "      <td>80.0</td>\n",
       "      <td>68.0</td>\n",
       "      <td>5.77</td>\n",
       "    </tr>\n",
       "    <tr>\n",
       "      <th>4</th>\n",
       "      <td>LotArea</td>\n",
       "      <td>int64</td>\n",
       "      <td>0</td>\n",
       "      <td>1073</td>\n",
       "      <td>8450</td>\n",
       "      <td>9600</td>\n",
       "      <td>11250</td>\n",
       "      <td>9.70</td>\n",
       "    </tr>\n",
       "    <tr>\n",
       "      <th>...</th>\n",
       "      <td>...</td>\n",
       "      <td>...</td>\n",
       "      <td>...</td>\n",
       "      <td>...</td>\n",
       "      <td>...</td>\n",
       "      <td>...</td>\n",
       "      <td>...</td>\n",
       "      <td>...</td>\n",
       "    </tr>\n",
       "    <tr>\n",
       "      <th>76</th>\n",
       "      <td>MoSold</td>\n",
       "      <td>int64</td>\n",
       "      <td>0</td>\n",
       "      <td>12</td>\n",
       "      <td>2</td>\n",
       "      <td>5</td>\n",
       "      <td>9</td>\n",
       "      <td>3.37</td>\n",
       "    </tr>\n",
       "    <tr>\n",
       "      <th>77</th>\n",
       "      <td>YrSold</td>\n",
       "      <td>int64</td>\n",
       "      <td>0</td>\n",
       "      <td>5</td>\n",
       "      <td>2008</td>\n",
       "      <td>2007</td>\n",
       "      <td>2008</td>\n",
       "      <td>2.29</td>\n",
       "    </tr>\n",
       "    <tr>\n",
       "      <th>78</th>\n",
       "      <td>SaleType</td>\n",
       "      <td>object</td>\n",
       "      <td>0</td>\n",
       "      <td>9</td>\n",
       "      <td>WD</td>\n",
       "      <td>WD</td>\n",
       "      <td>WD</td>\n",
       "      <td>0.78</td>\n",
       "    </tr>\n",
       "    <tr>\n",
       "      <th>79</th>\n",
       "      <td>SaleCondition</td>\n",
       "      <td>object</td>\n",
       "      <td>0</td>\n",
       "      <td>6</td>\n",
       "      <td>Normal</td>\n",
       "      <td>Normal</td>\n",
       "      <td>Normal</td>\n",
       "      <td>0.97</td>\n",
       "    </tr>\n",
       "    <tr>\n",
       "      <th>80</th>\n",
       "      <td>SalePrice</td>\n",
       "      <td>int64</td>\n",
       "      <td>0</td>\n",
       "      <td>663</td>\n",
       "      <td>208500</td>\n",
       "      <td>181500</td>\n",
       "      <td>223500</td>\n",
       "      <td>8.85</td>\n",
       "    </tr>\n",
       "  </tbody>\n",
       "</table>\n",
       "<p>81 rows × 8 columns</p>\n",
       "</div>"
      ],
      "text/plain": [
       "             Name   dtypes  Missing  Uniques First Value Second Value  \\\n",
       "0              Id    int64        0     1460           1            2   \n",
       "1      MSSubClass    int64        0       15          60           20   \n",
       "2        MSZoning   object        0        5          RL           RL   \n",
       "3     LotFrontage  float64      259      110        65.0         80.0   \n",
       "4         LotArea    int64        0     1073        8450         9600   \n",
       "..            ...      ...      ...      ...         ...          ...   \n",
       "76         MoSold    int64        0       12           2            5   \n",
       "77         YrSold    int64        0        5        2008         2007   \n",
       "78       SaleType   object        0        9          WD           WD   \n",
       "79  SaleCondition   object        0        6      Normal       Normal   \n",
       "80      SalePrice    int64        0      663      208500       181500   \n",
       "\n",
       "   Third Value  Entropy  \n",
       "0            3    10.51  \n",
       "1           60     2.92  \n",
       "2           RL     1.00  \n",
       "3         68.0     5.77  \n",
       "4        11250     9.70  \n",
       "..         ...      ...  \n",
       "76           9     3.37  \n",
       "77        2008     2.29  \n",
       "78          WD     0.78  \n",
       "79      Normal     0.97  \n",
       "80      223500     8.85  \n",
       "\n",
       "[81 rows x 8 columns]"
      ]
     },
     "execution_count": 68,
     "metadata": {},
     "output_type": "execute_result"
    }
   ],
   "source": [
    "resumetable(df)"
   ]
  },
  {
   "cell_type": "markdown",
   "id": "697cd61d",
   "metadata": {},
   "source": [
    "このデータセットに含まれるカテゴリカル変数の一部には、カテゴリに明らかな誤字と思われるものが含まれています。"
   ]
  },
  {
   "cell_type": "code",
   "execution_count": 69,
   "id": "a6bd06ed",
   "metadata": {},
   "outputs": [
    {
     "data": {
      "text/plain": [
       "array(['VinylSd', 'MetalSd', 'Wd Shng', 'HdBoard', 'Plywood', 'Wd Sdng',\n",
       "       'CmentBd', 'BrkFace', 'Stucco', 'AsbShng', 'Brk Cmn', 'ImStucc',\n",
       "       'AsphShn', 'Stone', 'Other', 'CBlock'], dtype=object)"
      ]
     },
     "execution_count": 69,
     "metadata": {},
     "output_type": "execute_result"
    }
   ],
   "source": [
    "df.Exterior2nd.unique()"
   ]
  },
  {
   "cell_type": "markdown",
   "id": "24ee3924",
   "metadata": {},
   "source": [
    "これらを data_description.txt と比較することで、どの項目にクリーニングが必要かが分かります。ここではいくつかの問題に対処しますが、さらにこのデータを詳しく評価してみるのも良いでしょう。"
   ]
  },
  {
   "cell_type": "code",
   "execution_count": 70,
   "id": "b863651f",
   "metadata": {},
   "outputs": [],
   "source": [
    "def clean(df):\n",
    "    df[\"Exterior2nd\"] = df[\"Exterior2nd\"].replace({\"Brk Cmn\": \"BrkComm\"})\n",
    "    # Some values of GarageYrBlt are corrupt, so we'll replace them\n",
    "    # with the year the house was built\n",
    "    df[\"GarageYrBlt\"] = df[\"GarageYrBlt\"].where(df.GarageYrBlt <= 2010, df.YearBuilt)\n",
    "    # Names beginning with numbers are awkward to work with\n",
    "    df.rename(columns={\n",
    "        \"1stFlrSF\": \"FirstFlrSF\",\n",
    "        \"2ndFlrSF\": \"SecondFlrSF\",\n",
    "        \"3SsnPorch\": \"Threeseasonporch\",\n",
    "    }, inplace=True,\n",
    "    )\n",
    "    return df"
   ]
  },
  {
   "cell_type": "code",
   "execution_count": 71,
   "id": "ccb53080",
   "metadata": {},
   "outputs": [
    {
     "name": "stderr",
     "output_type": "stream",
     "text": [
      "C:\\Users\\tatib\\AppData\\Local\\Temp\\ipykernel_13204\\4262107936.py:7: FutureWarning: \n",
      "\n",
      "Passing `palette` without assigning `hue` is deprecated and will be removed in v0.14.0. Assign the `x` variable to `hue` and set `legend=False` for the same effect.\n",
      "\n",
      "  plot_1 = sns.countplot(x=Column,data=DataFile,palette=\"husl\")\n"
     ]
    },
    {
     "data": {
      "image/png": "[encoded data removed]",
      "text/plain": [
       "<Figure size 1600x1400 with 2 Axes>"
      ]
     },
     "metadata": {},
     "output_type": "display_data"
    }
   ],
   "source": [
    "ploting_cnt_amt(clean(df), \"Exterior2nd\")"
   ]
  },
  {
   "cell_type": "code",
   "execution_count": 72,
   "id": "24a0540c",
   "metadata": {},
   "outputs": [
    {
     "data": {
      "text/plain": [
       "count    1460.000000\n",
       "mean     1162.626712\n",
       "std       386.587738\n",
       "min       334.000000\n",
       "25%       882.000000\n",
       "50%      1087.000000\n",
       "75%      1391.250000\n",
       "max      4692.000000\n",
       "Name: FirstFlrSF, dtype: float64"
      ]
     },
     "execution_count": 72,
     "metadata": {},
     "output_type": "execute_result"
    }
   ],
   "source": [
    "clean(df)[\"FirstFlrSF\"].describe()"
   ]
  },
  {
   "cell_type": "code",
   "execution_count": 73,
   "id": "c947ae15",
   "metadata": {},
   "outputs": [
    {
     "data": {
      "text/plain": [
       "dtype('int64')"
      ]
     },
     "execution_count": 73,
     "metadata": {},
     "output_type": "execute_result"
    }
   ],
   "source": [
    "clean(df)[\"FirstFlrSF\"].dtypes # int64"
   ]
  },
  {
   "cell_type": "code",
   "execution_count": 75,
   "id": "e3d6524d",
   "metadata": {},
   "outputs": [
    {
     "data": {
      "text/plain": [
       "count    1460.000000\n",
       "mean      346.992466\n",
       "std       436.528436\n",
       "min         0.000000\n",
       "25%         0.000000\n",
       "50%         0.000000\n",
       "75%       728.000000\n",
       "max      2065.000000\n",
       "Name: SecondFlrSF, dtype: float64"
      ]
     },
     "execution_count": 75,
     "metadata": {},
     "output_type": "execute_result"
    }
   ],
   "source": [
    "clean(df)[\"SecondFlrSF\"].describe()"
   ]
  },
  {
   "cell_type": "code",
   "execution_count": 76,
   "id": "f2e4f2e1",
   "metadata": {},
   "outputs": [
    {
     "data": {
      "text/plain": [
       "dtype('int64')"
      ]
     },
     "execution_count": 76,
     "metadata": {},
     "output_type": "execute_result"
    }
   ],
   "source": [
    "clean(df)[\"SecondFlrSF\"].dtypes # int64"
   ]
  },
  {
   "cell_type": "code",
   "execution_count": 78,
   "id": "e19cb44f",
   "metadata": {},
   "outputs": [
    {
     "data": {
      "text/plain": [
       "count    1460.000000\n",
       "mean        3.409589\n",
       "std        29.317331\n",
       "min         0.000000\n",
       "25%         0.000000\n",
       "50%         0.000000\n",
       "75%         0.000000\n",
       "max       508.000000\n",
       "Name: Threeseasonporch, dtype: float64"
      ]
     },
     "execution_count": 78,
     "metadata": {},
     "output_type": "execute_result"
    }
   ],
   "source": [
    "clean(df)[\"Threeseasonporch\"].describe() # int64"
   ]
  },
  {
   "cell_type": "code",
   "execution_count": null,
   "id": "d026b78f",
   "metadata": {},
   "outputs": [
    {
     "data": {
      "text/plain": [
       "dtype('int64')"
      ]
     },
     "execution_count": 77,
     "metadata": {},
     "output_type": "execute_result"
    }
   ],
   "source": [
    "clean(df)[\"Threeseasonporch\"].dtypes # int64"
   ]
  },
  {
   "cell_type": "markdown",
   "id": "6e71efbd",
   "metadata": {},
   "source": [
    "##### Encode the Statical Data Type"
   ]
  },
  {
   "cell_type": "markdown",
   "id": "ac9eaa79",
   "metadata": {},
   "source": [
    "Pandas には、標準的な統計型（数値型、カテゴリ型など）に対応する Python の型が用意されています。各特徴量に正しい型を割り当ててエンコードすることで、使用する関数がそれぞれの特徴量を適切に処理できるようになり、変換処理も一貫して適用しやすくなります。以下の非表示セルでは、encode 関数が定義されています。"
   ]
  },
  {
   "cell_type": "code",
   "execution_count": null,
   "id": "5dd9bbab",
   "metadata": {},
   "outputs": [],
   "source": [
    "# 数値特徴量はすでに正しくエンコードされています（連続値には `float`、離散値には `int` が使われています）。\n",
    "# しかし、カテゴリカル変数については自分でエンコードする必要があります。\n",
    "# 特に注意すべきなのは、`MSSubClass` 特徴量です。これは `int` 型として読み込まれていますが、\n",
    "# 実際には（順序のない）カテゴリ変数（名義尺度）です。\n",
    "\n",
    "# 名義（順序のない）カテゴリカル特徴量\n",
    "\n",
    "features_nom = [\"MSSubClass\", \"MSZoning\", \"Street\", \"Alley\", \"LandContour\", \"LotConfig\", \"Neighborhood\", \"Condition1\", \"Condition2\", \"BldgType\", \"HouseStyle\", \"RoofStyle\", \"RoofMatl\", \"Exterior1st\", \"Exterior2nd\", \"MasVnrType\", \"Foundation\", \"Heating\", \"CentralAir\", \"GarageType\", \"MiscFeature\", \"SaleType\", \"SaleCondition\"]"
   ]
  },
  {
   "cell_type": "code",
   "execution_count": null,
   "id": "612b6530",
   "metadata": {},
   "outputs": [],
   "source": [
    "# 順序尺度（順序あり）の特徴量と、その取りうる値の順序を辞書で定義。\n",
    "five_levels = [\"Po\", \"Fa\", \"TA\", \"Gd\", \"Ex\"]\n",
    "ten_levels = list(range(10))\n",
    "\n",
    "ordered_levels = {\n",
    "    \"OverallQual\": ten_levels,\n",
    "    \"OverallCond\": ten_levels,\n",
    "    \"ExterQual\": five_levels,\n",
    "    \"ExterCond\": five_levels,\n",
    "    \"BsmtQual\": five_levels,\n",
    "    \"BsmtCond\": five_levels,\n",
    "    \"HeatingQC\": five_levels,\n",
    "    \"KitchenQual\": five_levels,\n",
    "    \"FireplaceQu\": five_levels,\n",
    "    \"GarageQual\": five_levels,\n",
    "    \"GarageCond\": five_levels,\n",
    "    \"PoolQC\": five_levels,\n",
    "    \"LotShape\": [\"Reg\", \"IR1\", \"IR2\", \"IR3\"],\n",
    "    \"LandSlope\": [\"Sev\", \"Mod\", \"Gtl\"],\n",
    "    \"BsmtExposure\": [\"No\", \"Mn\", \"Av\", \"Gd\"],\n",
    "    \"BsmtFinType1\": [\"Unf\", \"LwQ\", \"Rec\", \"BLQ\", \"ALQ\", \"GLQ\"],\n",
    "    \"BsmtFinType2\": [\"Unf\", \"LwQ\", \"Rec\", \"BLQ\", \"ALQ\", \"GLQ\"],\n",
    "    \"Functional\": [\"Sal\", \"Sev\", \"Maj1\", \"Maj2\", \"Mod\", \"Min2\", \"Min1\", \"Typ\"],\n",
    "    \"GarageFinish\": [\"Unf\", \"RFn\", \"Fin\"],\n",
    "    \"PavedDrive\": [\"N\", \"P\", \"Y\"],\n",
    "    \"Utilities\": [\"NoSeWa\", \"NoSewr\", \"AllPub\"],\n",
    "    \"CentralAir\": [\"N\", \"Y\"],\n",
    "    \"Electrical\": [\"Mix\", \"FuseP\", \"FuseF\", \"FuseA\", \"SBrkr\"],\n",
    "    \"Fence\": [\"MnWw\", \"GdWo\", \"MnPrv\", \"GdPrv\"],\n",
    "}"
   ]
  },
  {
   "cell_type": "code",
   "execution_count": null,
   "id": "e936376a",
   "metadata": {},
   "outputs": [],
   "source": [
    "# Add a None level for missing values\n",
    "ordered_levels = {key: [\"None\"] + value for key, value in\n",
    "                  ordered_levels.items()}\n"
   ]
  },
  {
   "cell_type": "code",
   "execution_count": null,
   "id": "164549cd",
   "metadata": {},
   "outputs": [],
   "source": [
    "def encode(df):\n",
    "    # Nominal categories\n",
    "    for name in features_nom:\n",
    "        df[name] = df[name].astype(\"category\")\n",
    "        # Add a None category for missing values\n",
    "        if \"None\" not in df[name].cat.categories:\n",
    "            df[name] = df[name].cat.add_categories(\"None\")\n",
    "    # Ordinal categories\n",
    "    for name, levels in ordered_levels.items():\n",
    "        df[name] = df[name].astype(CategoricalDtype(levels,\n",
    "                                                    ordered=True))\n",
    "    return df"
   ]
  }
 ],
 "metadata": {
  "kernelspec": {
   "display_name": "EDA",
   "language": "python",
   "name": "eda"
  },
  "language_info": {
   "codemirror_mode": {
    "name": "ipython",
    "version": 3
   },
   "file_extension": ".py",
   "mimetype": "text/x-python",
   "name": "python",
   "nbconvert_exporter": "python",
   "pygments_lexer": "ipython3",
   "version": "3.12.3"
  }
 },
 "nbformat": 4,
 "nbformat_minor": 5
}

{
 "cells": [
  {
   "cell_type": "markdown",
   "id": "d6118af0",
   "metadata": {},
   "source": [
    "### 1. Don't have to be hesitant about using Loop."
   ]
  },
  {
   "cell_type": "markdown",
   "id": "a96431a5",
   "metadata": {},
   "source": [
    "「avoid loops」と言われることがありますが、このコンペティションではループを使うのは悪くない考えだと思います。なぜなら：\n",
    "\n",
    "- Time-series APIを使って小さなバッチで推論する必要があるからです。\n",
    "\n",
    "- 各バッチに対するループのオーバーヘッドは非常に小さいです。\n",
    "\n",
    "- ループはより柔軟です。\n",
    "\n",
    "- ループもそれほど遅くはありません。例えば、3つの特徴量が1億件の学習データに対して10分以内に抽出できます（下記参照）。"
   ]
  },
  {
   "cell_type": "markdown",
   "id": "00fd5b62",
   "metadata": {},
   "source": [
    "### 2. Future information should not be used.\n"
   ]
  },
  {
   "cell_type": "markdown",
   "id": "fbdd4225",
   "metadata": {},
   "source": [
    "Time-series APIでは、未来の情報を使うことができません。したがって、それを使うべきではありません。特に、未来のユーザー統計情報を使うと、非常に悪い結果になります。"
   ]
  },
  {
   "cell_type": "code",
   "execution_count": 1,
   "id": "53a61d04",
   "metadata": {},
   "outputs": [],
   "source": [
    "import pandas as pd\n",
    "import numpy as np\n",
    "import gc\n",
    "from sklearn.metrics import roc_auc_score\n",
    "from collections import defaultdict\n",
    "from tqdm.notebook import tqdm\n",
    "import lightgbm as lgb"
   ]
  }
 ],
 "metadata": {
  "kernelspec": {
   "display_name": "EDA",
   "language": "python",
   "name": "eda"
  },
  "language_info": {
   "codemirror_mode": {
    "name": "ipython",
    "version": 3
   },
   "file_extension": ".py",
   "mimetype": "text/x-python",
   "name": "python",
   "nbconvert_exporter": "python",
   "pygments_lexer": "ipython3",
   "version": "3.12.3"
  }
 },
 "nbformat": 4,
 "nbformat_minor": 5
}

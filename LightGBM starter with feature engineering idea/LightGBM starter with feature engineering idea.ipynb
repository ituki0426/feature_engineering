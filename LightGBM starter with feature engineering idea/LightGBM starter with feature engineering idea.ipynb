{
 "cells": [
  {
   "cell_type": "markdown",
   "id": "41a0cfea",
   "metadata": {},
   "source": [
    "### 1.LightGBM starter with feature engineering idea"
   ]
  },
  {
   "cell_type": "markdown",
   "id": "f982dec5",
   "metadata": {},
   "source": [
    "このノートは主に、自分自身のアイデアを再整理するために作成しています。もし、コードやモデル構築に関して改善の余地があると感じたら、ぜひコメントやアドバイスをお願いします。\n",
    "\n",
    "今回は、過去10分間（600秒）の2種類のデータセットを使って、次の10分間の実現ボラティリティ（realized volatility）を予測します。\n",
    "一つ目のデータセットは、ほぼ毎秒の買気配（ask）と売気配（bid）価格が記録されており、これを使って過去10分間の実現ボラティリティを計算できます。\n",
    "二つ目のデータセットは、実際の株式取引の記録であり、こちらはよりまばらなデータです。\n",
    "\n",
    "詳細な説明については、以下のノートブックをご覧ください：\n",
    "https://www.kaggle.com/jiashenliu/introduction-to-financial-concepts-and-data\n",
    "\n",
    "EDA（探索的データ分析）については、以下のノートブックが参考になります：\n",
    "https://www.kaggle.com/chumajin/optiver-realized-eda-for-starter-english-version\n",
    "\n",
    "ありがとうございます！"
   ]
  }
 ],
 "metadata": {
  "kernelspec": {
   "display_name": "EDA",
   "language": "python",
   "name": "eda"
  },
  "language_info": {
   "name": "python",
   "version": "3.12.3"
  }
 },
 "nbformat": 4,
 "nbformat_minor": 5
}
